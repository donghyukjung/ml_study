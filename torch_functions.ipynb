{
 "cells": [
  {
   "cell_type": "code",
   "execution_count": 2,
   "metadata": {},
   "outputs": [],
   "source": [
    "import torch"
   ]
  },
  {
   "cell_type": "code",
   "execution_count": 37,
   "metadata": {},
   "outputs": [
    {
     "name": "stdout",
     "output_type": "stream",
     "text": [
      "torch.Size([2, 3, 4, 5])\n",
      "torch.Size([120])\n",
      "torch.Size([2, 60])\n",
      "torch.Size([2, 3, 20])\n",
      "torch.Size([2, 3, 4, 5])\n"
     ]
    }
   ],
   "source": [
    "# torch.flatten() : merge dimension of tensor\n",
    "t=torch.ones(2,3,4,5)\n",
    "print(t.shape) # torch.Size([2, 3, 4, 5])\n",
    "print(torch.flatten(t).shape)  # torch.Size([120])\n",
    "print(torch.flatten(t,start_dim=1).shape) # torch.Size([2, 60]), dim=-3\n",
    "print(torch.flatten(t,start_dim=2).shape) # torch.Size([2, 3, 20]) dim=-2\n",
    "print(torch.flatten(t,start_dim=3).shape) # torch.Size([2, 3, 4, 5]) dim=-1"
   ]
  },
  {
   "cell_type": "code",
   "execution_count": 41,
   "metadata": {},
   "outputs": [
    {
     "name": "stdout",
     "output_type": "stream",
     "text": [
      "torch.Size([2, 3, 1, 5, 1])\n",
      "torch.Size([2, 3, 5])\n",
      "torch.Size([2, 3, 5, 1])\n",
      "torch.Size([2, 1, 3, 4])\n"
     ]
    }
   ],
   "source": [
    "# torch.squeeze(Tensor,dim=0)\n",
    "t=torch.ones(2,3,1,5,1)\n",
    "print(t.shape) # torch.Size([2, 3, 1, 5, 1])\n",
    "print(torch.squeeze(t).shape) # torch.Size([2, 3, 5])\n",
    "print(torch.squeeze(t,dim=2).shape) # torch.Size([2, 3, 5,  1])\n",
    "\n",
    "# torch.unsqueeze(Tensor,dim=0)\n",
    "t=torch.ones(2,3,4)\n",
    "print(torch.unsqueeze(t,dim=1).shape)"
   ]
  },
  {
   "cell_type": "code",
   "execution_count": 45,
   "metadata": {},
   "outputs": [
    {
     "data": {
      "text/plain": [
       "tensor([[[ 1,  2],\n",
       "         [ 3,  4],\n",
       "         [ 5,  6]],\n",
       "\n",
       "        [[ 7,  8],\n",
       "         [ 9, 10],\n",
       "         [11, 12]]])"
      ]
     },
     "execution_count": 45,
     "metadata": {},
     "output_type": "execute_result"
    }
   ],
   "source": [
    "# torch.permute() : change dimension\n",
    "# https://sanghyu.tistory.com/3 : view, reshape, transpose, permute\n",
    "# reshape : only valid for possible dimensions\n",
    "t=torch.tensor([1,2,3,4,5,6,7,8,9,10,11,12])\n",
    "torch.reshape(t, [2,3,2])"
   ]
  },
  {
   "cell_type": "code",
   "execution_count": null,
   "metadata": {},
   "outputs": [],
   "source": []
  }
 ],
 "metadata": {
  "interpreter": {
   "hash": "b3bb41b9cf7283368ddd18615c1d11cb9a7e7f87ee25fe0c0d85925a202d0d4b"
  },
  "kernelspec": {
   "display_name": "Python 3.8.5 ('venv': venv)",
   "language": "python",
   "name": "python3"
  },
  "language_info": {
   "codemirror_mode": {
    "name": "ipython",
    "version": 3
   },
   "file_extension": ".py",
   "mimetype": "text/x-python",
   "name": "python",
   "nbconvert_exporter": "python",
   "pygments_lexer": "ipython3",
   "version": "3.8.5"
  },
  "orig_nbformat": 4
 },
 "nbformat": 4,
 "nbformat_minor": 2
}
