{
 "cells": [
  {
   "cell_type": "code",
   "execution_count": 4,
   "metadata": {},
   "outputs": [],
   "source": [
    "import torch"
   ]
  },
  {
   "cell_type": "markdown",
   "metadata": {},
   "source": [
    "`torch.flatten()`"
   ]
  },
  {
   "cell_type": "code",
   "execution_count": 5,
   "metadata": {},
   "outputs": [
    {
     "name": "stdout",
     "output_type": "stream",
     "text": [
      "torch.Size([2, 3, 4, 5])\n",
      "torch.Size([120])\n",
      "torch.Size([2, 60])\n",
      "torch.Size([2, 3, 20])\n",
      "torch.Size([2, 3, 4, 5])\n"
     ]
    }
   ],
   "source": [
    "# torch.flatten() : merge dimension of tensor\n",
    "t=torch.ones(2,3,4,5)\n",
    "print(t.shape) # torch.Size([2, 3, 4, 5])\n",
    "print(torch.flatten(t).shape)  # torch.Size([120])\n",
    "print(torch.flatten(t,start_dim=1).shape) # torch.Size([2, 60]), dim=-3\n",
    "print(torch.flatten(t,start_dim=2).shape) # torch.Size([2, 3, 20]) dim=-2\n",
    "print(torch.flatten(t,start_dim=3).shape) # torch.Size([2, 3, 4, 5]) dim=-1"
   ]
  },
  {
   "cell_type": "markdown",
   "metadata": {},
   "source": [
    "`torch.squeeze()`"
   ]
  },
  {
   "cell_type": "code",
   "execution_count": 3,
   "metadata": {},
   "outputs": [
    {
     "name": "stdout",
     "output_type": "stream",
     "text": [
      "torch.Size([2, 3, 1, 5, 1])\n",
      "torch.Size([2, 3, 5])\n",
      "torch.Size([2, 3, 5, 1])\n",
      "torch.Size([2, 1, 3, 4])\n",
      "torch.Size([1, 2, 3, 4])\n"
     ]
    }
   ],
   "source": [
    "# torch.squeeze(Tensor,dim=0)\n",
    "t=torch.ones(2,3,1,5,1)\n",
    "print(t.shape) # torch.Size([2, 3, 1, 5, 1])\n",
    "print(torch.squeeze(t).shape) # torch.Size([2, 3, 5])\n",
    "print(torch.squeeze(t,dim=2).shape) # torch.Size([2, 3, 5,  1])\n",
    "\n",
    "# torch.unsqueeze(Tensor,dim=0)\n",
    "t=torch.ones(2,3,4)\n",
    "print(torch.unsqueeze(t,dim=1).shape)\n",
    "print(torch.unsqueeze(t,dim=0).shape)"
   ]
  },
  {
   "cell_type": "markdown",
   "metadata": {},
   "source": [
    "`torch.reshape()`"
   ]
  },
  {
   "cell_type": "code",
   "execution_count": 42,
   "metadata": {},
   "outputs": [
    {
     "data": {
      "text/plain": [
       "tensor([[[ 1,  2],\n",
       "         [ 3,  4],\n",
       "         [ 5,  6]],\n",
       "\n",
       "        [[ 7,  8],\n",
       "         [ 9, 10],\n",
       "         [11, 12]]])"
      ]
     },
     "execution_count": 42,
     "metadata": {},
     "output_type": "execute_result"
    }
   ],
   "source": [
    "# torch.permute() : change dimension\n",
    "# https://sanghyu.tistory.com/3 : view, reshape, transpose, permute\n",
    "# reshape : only valid for possible dimensions\n",
    "t=torch.tensor([1,2,3,4,5,6,7,8,9,10,11,12])\n",
    "torch.reshape(t, [2,3,2])"
   ]
  },
  {
   "cell_type": "markdown",
   "metadata": {},
   "source": [
    "#### `torch.view(-1,k)`\n",
    "\n",
    "`view(-1,k)` means convert tensor into (? x k) : -1 means unknown"
   ]
  },
  {
   "cell_type": "code",
   "execution_count": 11,
   "metadata": {},
   "outputs": [
    {
     "name": "stdout",
     "output_type": "stream",
     "text": [
      "torch.Size([2, 3, 2])\n",
      "torch.Size([6, 2])\n",
      "torch.Size([6, 2])\n"
     ]
    }
   ],
   "source": [
    "t=torch.tensor([[[1,2],[3,4],[5,6]],[[7,8],[9,10],[11,12]]])\n",
    "print(t.shape)\n",
    "print(t.view(6,2).shape)\n",
    "print(t.view(-1,2).shape) #same result with view(-1,2)"
   ]
  },
  {
   "cell_type": "code",
   "execution_count": 10,
   "metadata": {},
   "outputs": [
    {
     "name": "stdout",
     "output_type": "stream",
     "text": [
      "tensor([0.0000, 0.0909, 0.1818, 0.2727, 0.3636, 0.4545, 0.5455, 0.6364, 0.7273,\n",
      "        0.8182, 0.9091, 1.0000])\n"
     ]
    }
   ],
   "source": [
    "t=torch.tensor([1,2,3,4,5,6,7,8,9,10,11,12])\n",
    "t1=t.new(1,12)\n",
    "t1=torch.linspace(0,1,12)\n",
    "print(t1)"
   ]
  },
  {
   "cell_type": "markdown",
   "metadata": {},
   "source": [
    "`torch.Tensor.new()` : generate new tensor with same datatype with `self`\n",
    "\n",
    "It allocate memory randomly(?)\n",
    "\n",
    "정수형 텐서에 `.new()`함수로 새로 복제를 하고, `linspace()`함수를 넣었을 때, 정수형으로 버림된 값만 나타났음 (`linspace(0,k,N)` : 0부터 k까지 N등분된 텐서를 리턴)"
   ]
  },
  {
   "cell_type": "code",
   "execution_count": 39,
   "metadata": {},
   "outputs": [
    {
     "name": "stdout",
     "output_type": "stream",
     "text": [
      "tensor([12])\n",
      "tensor([[[1, 0, 0],\n",
      "         [1, 0, 0],\n",
      "         [1, 1, 1]]])\n"
     ]
    }
   ],
   "source": [
    "t=torch.tensor([12])\n",
    "print(t)\n",
    "t1=t.new(1,3,3)\n",
    "t1[:, :, 0] = 1.\n",
    "t1[:, :, 1] = torch.linspace(0, 1, 3)\n",
    "t1[:, :, 2] = torch.linspace(0, 1, 3)\n",
    "print(t1)\n",
    "\n",
    "grid = torch.zeros(1,3,3,3)\n",
    "grid[:, :, :, 0] = 1.\n",
    "grid[:, :, :, 1] = torch.linspace(0, 1, 3)\n",
    "grid[:, :, :, 2] = torch.linspace(0, 1, 3).unsqueeze(-1)   \n",
    "print(grid)"
   ]
  }
 ],
 "metadata": {
  "interpreter": {
   "hash": "b3bb41b9cf7283368ddd18615c1d11cb9a7e7f87ee25fe0c0d85925a202d0d4b"
  },
  "kernelspec": {
   "display_name": "Python 3.8.5 ('venv': venv)",
   "language": "python",
   "name": "python3"
  },
  "language_info": {
   "codemirror_mode": {
    "name": "ipython",
    "version": 3
   },
   "file_extension": ".py",
   "mimetype": "text/x-python",
   "name": "python",
   "nbconvert_exporter": "python",
   "pygments_lexer": "ipython3",
   "version": "3.8.5"
  },
  "orig_nbformat": 4
 },
 "nbformat": 4,
 "nbformat_minor": 2
}
